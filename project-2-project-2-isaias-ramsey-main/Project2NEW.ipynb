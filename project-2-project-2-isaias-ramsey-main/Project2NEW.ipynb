{
 "cells": [
  {
   "cell_type": "markdown",
   "metadata": {},
   "source": [
    "First Strategy: Gradient Descent\n",
    "    \n",
    "    Why did you think it would work?\n",
    "        We believed it would work since it would iteratively attempt to fit the data by going to the steepest point\n",
    "        where it cannot move anymore downhill. We believed it would be optimal since it would minimize the parameters for \n",
    "        our function. \n",
    "    \n",
    "    "
   ]
  },
  {
   "cell_type": "code",
   "execution_count": 21,
   "metadata": {
    "scrolled": true
   },
   "outputs": [
    {
     "name": "stdout",
     "output_type": "stream",
     "text": [
      "Precision value is 0.6847395243488108\n",
      "Recall value is 0.5069504361997891\n",
      "Fscore value is 0.3991260973663208\n"
     ]
    }
   ],
   "source": [
    "import matplotlib.pyplot as plt\n",
    "import numpy as np\n",
    "import pandas as pd\n",
    "from sklearn import tree\n",
    "from sklearn import datasets, linear_model\n",
    "from sklearn.linear_model import SGDClassifier\n",
    "from sklearn.neural_network import MLPClassifier\n",
    "from sklearn.metrics import mean_squared_error, r2_score\n",
    "from sklearn.metrics import precision_recall_fscore_support\n",
    "from sklearn.linear_model import SGDClassifier\n",
    "from sklearn.datasets import make_blobs\n",
    "\n",
    "# download Titanic dataset and place in your working directory, so that this command will find your file\n",
    "train = pd.read_csv(\"train.csv\")\n",
    "#\n",
    "# Divide input data X from labeled values to predict Y\n",
    "x_train = train.loc[:, 'Pclass':]\n",
    "y_train = train.loc[:, 'Survived']\n",
    "\n",
    "# Used to check and see what is inside the dataset\n",
    "# print(x_train)\n",
    "# print(y_train)\n",
    "\n",
    "\n",
    "# Clean up the data a bit so that it can processed by the decision tree\n",
    "x_train['Embarked'] = [0 if str(name) == \"nan\" else ord(name) for name in x_train['Embarked']]\n",
    "x_train['Cabin'] = [0 if str(el) == \"nan\" else len(str(el)) for el in x_train['Cabin']]\n",
    "x_train['Ticket'] = [0 if str(el) == \"nan\" else len(str(el)) for el in x_train['Ticket']]\n",
    "\n",
    "def sumASCII(name):\n",
    "    accum = 0\n",
    "    for i in name:\n",
    "        accum += ord(i)\n",
    "    return accum\n",
    "\n",
    "# Cleaning the data for feature, Name and Sex\n",
    "x_train['Name'] = [0 if str(name) == \"nan\" else sumASCII(str(name)) for name in x_train['Name']]\n",
    "x_train['Sex'] = [0 if sex == 'male' else 1 for sex in x_train['Sex']]\n",
    "\n",
    "\n",
    "# Just give up on these for now\n",
    "x_train = x_train.fillna(0)\n",
    "\n",
    "\n",
    "clf = SGDClassifier(loss=\"hinge\",alpha=0.01,max_iter=200)\n",
    "clf.fit(x_train,y_train)\n",
    "\n",
    "# This predict function is a way to give labels for samples in x_train.\n",
    "y_pred = clf.predict(x_train)\n",
    "y_true = y_train\n",
    "\n",
    "# The precision_recall_fscore_support function will compute the \n",
    "# precision, recall, F-measure and support for each class\n",
    "\n",
    "precision, recall, fscore, support = precision_recall_fscore_support(y_true, y_pred, average='macro')\n",
    "print(\"Precision value is\", precision)\n",
    "print(\"Recall value is\", recall)\n",
    "print(\"Fscore value is\", fscore)\n",
    "\n",
    "# # Plot outputs\n",
    "# xx = np.linspace(-1, 5, 10)\n",
    "# yy = np.linspace(-1, 5, 10)\n",
    "\n",
    "# X1, X2 = np.meshgrid(xx, yy)\n",
    "# Z = np.empty(X1.shape)\n",
    "# for (i, j), val in np.ndenumerate(X1):\n",
    "#     x1 = val\n",
    "#     x2 = X2[i, j]\n",
    "#     p = clf.decision_function([[x1, x2]])\n",
    "#     Z[i, j] = p[0]\n",
    "# levels = [-1.0, 0.0, 1.0]\n",
    "# linestyles = ['dashed', 'solid', 'dashed']\n",
    "# colors = 'k'\n",
    "# plt.contour(X1, X2, Z, levels, colors=colors, linestyles=linestyles)\n",
    "# plt.scatter(x_train[:, 0], x_train[:, 1], c=Y, cmap=plt.cm.Paired,\n",
    "#             edgecolor='black', s=20)\n",
    "\n",
    "# plt.axis('tight')\n",
    "# plt.show()\n",
    "\n",
    "\n",
    "# fig = plt.figure(figsize=(100,100))\n",
    "#\n",
    "#\n",
    "# plt.plot(x_train, y_pred, color='blue', linewidth=5)\n",
    "#\n",
    "# plt.xticks(())\n",
    "# plt.yticks(())\n",
    "#\n",
    "# plt.show()\n"
   ]
  },
  {
   "cell_type": "markdown",
   "metadata": {},
   "source": [
    "Quality/depth of visualizations/tests?\n",
    "\n",
    "We learned that gradient descent is a decent solution to predict the data, however it is not perfect. Running the solution above gives different values for the precision, recall, and fscore. We learned this during testing, and it served as one of our tests, however it led to more confusion. \n",
    "\n",
    "What did you learn about how it performed from your visualizations/tests?\n",
    "\n",
    "For testing we simply ran the precision_recall_fscore_support function, so that we could see how accurate the predictions came to the real data. We learned that gradient is less accurate when there are less features. We decide to go with the testing side of things because visualization can be done later once the testing and accuracy are verified. "
   ]
  },
  {
   "cell_type": "markdown",
   "metadata": {},
   "source": [
    "Second Strategy: Decision Trees\n",
    "\n",
    "    Why did you think it would outperform your first strategy?\n",
    "    \n",
    "    We believed this strategy would outperform the first since decision trees create thresholds based on every\n",
    "    feature. The features would all be used to further distinguish both sides; survived & not-survived. As a result, all we\n",
    "    would need to do is traverse down the decision tree and it should arrive at the correct threshold based on the data.\n",
    "    \n",
    "    \n",
    "    "
   ]
  },
  {
   "cell_type": "code",
   "execution_count": 24,
   "metadata": {
    "scrolled": true
   },
   "outputs": [
    {
     "name": "stdout",
     "output_type": "stream",
     "text": [
      "(1.0, 1.0, 1.0, None)\n"
     ]
    },
    {
     "data": {
      "image/png": "[encoded data removed]",
      "text/plain": [
       "<Figure size 432x288 with 1 Axes>"
      ]
     },
     "metadata": {
      "needs_background": "light"
     },
     "output_type": "display_data"
    }
   ],
   "source": [
    "from sklearn import tree, metrics\n",
    "import pandas as pd\n",
    "import matplotlib.pyplot as plt\n",
    "\n",
    "train=pd.read_csv(\"train.csv\") # download Titanic dataset and place in your working directory, so that this command will find your file\n",
    "clf = tree.DecisionTreeClassifier()\n",
    "\n",
    "# Divide input data X from labeled values to predict Y\n",
    "X = train.loc[:,'Pclass':]\n",
    "Y = train.loc[:,'Survived']\n",
    "\n",
    "# Clean up the data a bit so that it can processed by the decision tree\n",
    "# A more serious attempt would extract more subtle features from the data.\n",
    "X['Embarked'] = [0 if str(name) == \"nan\" else ord(name) for name in X['Embarked']]\n",
    "X['Cabin'] = [0 if str(el) == \"nan\" else len(str(el)) for el in X['Cabin']]\n",
    "X['Ticket'] = [ 0 if str(el) == \"nan\" else len(str(el)) for el in X['Ticket']]\n",
    "\n",
    "def sumASCII(name):\n",
    "    accum = 0\n",
    "    for i in name:\n",
    "        accum += ord(i)\n",
    "    return accum\n",
    "\n",
    "# Cleaning more of the features\n",
    "X['Name'] = [0 if str(name) == \"nan\" else sumASCII(str(name)) for name in X['Name']]\n",
    "X['Sex'] = [0 if sex == 'male' else 1 for sex in X['Sex']]\n",
    "\n",
    "# The NaN will be set to 0 using the fillna function\n",
    "X = X.fillna(0)\n",
    "\n",
    "# train the model\n",
    "clf = clf.fit(X, Y)\n",
    "\n",
    "# run predictions on the data, using the model. They should mostly conform to the training values Y\n",
    "y_pred = clf.predict(X)\n",
    "# figure() will plot the figure to the screen\n",
    "fig = plt.figure()\n",
    "_ = tree.plot_tree(clf, feature_names=X.columns, filled=True)\n",
    "returnVal = metrics.precision_recall_fscore_support(Y, y_pred, average=\"macro\")\n",
    "print(returnVal)\n",
    "\n",
    "# savefig() will save the image generated to a local file\n",
    "fig.savefig(\"tree.png\")\n",
    "# Show the image onto the screen\n",
    "plt.show()\n"
   ]
  },
  {
   "cell_type": "markdown",
   "metadata": {},
   "source": [
    "What did you learn about how it performed from your visualizations/tests?\n",
    "\n",
    "Based on the tests, the decision tree method had a precision score of 1.0. It was able to predict the data 100% of the time since the decision tree has several defined threshold that categorizes the survived and non-survived. As a result, we learned that decision trees one of the best ways to train the data if you have several features."
   ]
  }
 ],
 "metadata": {
  "kernelspec": {
   "display_name": "python37",
   "language": "python",
   "name": "python37"
  },
  "language_info": {
   "codemirror_mode": {
    "name": "ipython",
    "version": 3
   },
   "file_extension": ".py",
   "mimetype": "text/x-python",
   "name": "python",
   "nbconvert_exporter": "python",
   "pygments_lexer": "ipython3",
   "version": "3.7.9"
  }
 },
 "nbformat": 4,
 "nbformat_minor": 4
}
